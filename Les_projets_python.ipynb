{
  "nbformat": 4,
  "nbformat_minor": 0,
  "metadata": {
    "colab": {
      "provenance": []
    },
    "kernelspec": {
      "name": "python3",
      "display_name": "Python 3"
    },
    "language_info": {
      "name": "python"
    }
  },
  "cells": [
    {
      "cell_type": "markdown",
      "source": [
        "**La calculatrice**"
      ],
      "metadata": {
        "id": "R2Yrg984GQiR"
      }
    },
    {
      "cell_type": "code",
      "execution_count": null,
      "metadata": {
        "colab": {
          "base_uri": "https://localhost:8080/"
        },
        "id": "Q5T5bSCfGNOw",
        "outputId": "3c4862e8-d6a8-4e21-b7e1-6a015309c120"
      },
      "outputs": [
        {
          "output_type": "stream",
          "name": "stdout",
          "text": [
            "Veuillez entrer un premier nombre 5\n",
            "Veuillez entrer un deuxième nombre 3\n",
            "Le resultat de l'addition de 5 avec 3 est égal à 8 \n"
          ]
        }
      ],
      "source": [
        "nombre = input(\"Veuillez entrer un premier nombre \")\n",
        "nombre2 = input(\"Veuillez entrer un deuxième nombre \")\n",
        "print(f\"Le resultat de l'addition de {nombre} avec {nombre2} est égal à {int(nombre) + int(nombre2)} \")"
      ]
    },
    {
      "cell_type": "markdown",
      "source": [
        "**Le glow up de la calculatrice**"
      ],
      "metadata": {
        "id": "h_7jYfQ7GzwK"
      }
    },
    {
      "cell_type": "code",
      "source": [
        "nombre = input(\"Veuillez entrer un premier nombre \")\n",
        "nombre2 = input(\"Veuillez entrer un deuxième nombre \")\n",
        "if nombre.isdigit() and nombre2.isdigit():\n",
        "  print(f\"Le resultat de l'addition de {nombre} avec {nombre2} est égal à {int(nombre) + int(nombre2)} \")\n",
        "else:\n",
        "  print(\"Veuillez entrer deux nombres valides\")"
      ],
      "metadata": {
        "colab": {
          "base_uri": "https://localhost:8080/"
        },
        "id": "XP_voG6eG5Lz",
        "outputId": "38314ade-d128-4e41-c6c1-0ced6b1266e5"
      },
      "execution_count": null,
      "outputs": [
        {
          "output_type": "stream",
          "name": "stdout",
          "text": [
            "Veuillez entrer un premier nombre O\n",
            "Veuillez entrer un deuxième nombre L\n",
            "Veuillez entrer deux nombres valides\n"
          ]
        }
      ]
    },
    {
      "cell_type": "markdown",
      "source": [
        "**Projet N3 : LA LISTE DE COURSES**"
      ],
      "metadata": {
        "id": "pwVYy2VyPb2h"
      }
    },
    {
      "cell_type": "code",
      "source": [
        "print(\"\"\"Choisisser parmis les 5 options suivantes :\n",
        "      1 : Ajouter un élément à la liste\n",
        "      2 : Retirer un élément de la liste\n",
        "      3 : Afficher la liste\n",
        "      4 : Vider la liste\n",
        "      5 : Quitter\n",
        "      \"\"\")\n",
        "a = input()\n",
        "liste = []\n",
        "if a == \"1\":\n",
        "  print(\"Entrez le nom d'une élément à ajouter :\")\n",
        "\n",
        "elif a == \"2\":\n",
        "  print(\"Entrer le nom d'un élément à retirer de la liste :\")\n",
        "elif a == \"3\":\n",
        "  print(\"Afficher la liste\")\n",
        "elif a == \"4\":\n",
        "  print(\"Vider la liste\")\n",
        "elif a == \"5\":\n",
        "  print(\"Au revoir\")\n",
        "\n"
      ],
      "metadata": {
        "colab": {
          "base_uri": "https://localhost:8080/"
        },
        "id": "BiS6rtEJdPvG",
        "outputId": "4ba96f25-2d16-4990-bc94-5f00eabb0665"
      },
      "execution_count": null,
      "outputs": [
        {
          "output_type": "stream",
          "name": "stdout",
          "text": [
            "Choisisser parmis les 5 options suivantes : \n",
            "      1 : Ajouter un élément à la liste\n",
            "      2 : Retirer un élément de la liste\n",
            "      3 : Afficher la liste\n",
            "      4 : Vider la liste\n",
            "      5 : Quitter\n",
            "      \n",
            "5\n",
            "Au revoir\n"
          ]
        }
      ]
    },
    {
      "cell_type": "code",
      "source": [
        "liste = []\n",
        "\n",
        "\n",
        "print(\"\"\"Choisisser parmis les 5 options suivantes :\n",
        "      1 : Ajouter un élément à la liste\n",
        "      2 : Retirer un élément de la liste\n",
        "      3 : Afficher la liste\n",
        "      4 : Vider la liste\n",
        "      5 : Quitter\n",
        "      \"\"\")\n",
        "\n",
        "choix = input()\n",
        "\n",
        "while True:\n",
        "\n",
        "    if choix == \"1\":\n",
        "      objet = input(\"Entrez le nom d'une élément à ajouter à la liste :\")\n",
        "      liste.append(objet)\n",
        "      print(f\"'{objet}' a été ajouté a la liste\")\n",
        "\n",
        "    elif choix == \"2\":\n",
        "      objet =input(\"Entrer le nom d'un élément à retirer de la liste :\")\n",
        "      if objet in liste:\n",
        "        liste.remove(objet)\n",
        "        print(f\"'{objet}' a été retiré de la liste\")\n",
        "      else:\n",
        "        print(f\"'{objet}' n'est pas dans la liste\")\n",
        "\n",
        "    elif choix == \"3\":\n",
        "        if liste:\n",
        "          print(\"Voici le contenu de la liste:\")\n",
        "          for i, item in enumerate(liste, 1):\n",
        "            print(f\"{i}. {item}\")p\n",
        "\n",
        "    elif choix == \"4\":\n",
        "      liste.clear()\n",
        "      print(\"La liste a été vidée\")\n",
        "\n",
        "    else:\n",
        "      choix == \"5\"\n",
        "      print(\"Au revoir\")\n",
        "      sys.exit()\n"
      ],
      "metadata": {
        "id": "r4QvObMFlxo4"
      },
      "execution_count": null,
      "outputs": []
    },
    {
      "cell_type": "markdown",
      "source": [
        "***Le jeu du nombre mystere ***"
      ],
      "metadata": {
        "id": "3ol5n79H7e8p"
      }
    },
    {
      "cell_type": "code",
      "source": [
        "import sys\n",
        "import random\n",
        "\n",
        "print(\"\"\"*** Le jeu du nombre mystère ***\n",
        "Il te reste 5 essais\"\"\")\n",
        "\n",
        "nbe_rdm = random.randint(0, 10)\n",
        "nbe_essais = 0\n",
        "limite_essais = 5 # j'y ai pensé mais je ne l'ai pas trouvé tout seul\n",
        "\n",
        "while nbe_essais < limite_essais:\n",
        "  user_choice = input(f\"Essaie {nbe_essais + 1}/{limite_essais} Veuillez choisir un nombre entre 0 et 10 ! \")\n",
        "  # on aurait pu ecrire ca:  print(\"Essai numéro\", nbe_essais + 1, \"sur\", limite_essais)\n",
        "  #user_choice = input(\"Devine un nombre entre 0 et 100 : \")\n",
        "\n",
        "\n",
        "  if user_choice.isdigit():\n",
        "    user_choice = int(user_choice) #ici on transforme la variable user_choice en integer\n",
        "    nbe_essais += 1\n",
        "\n",
        "    if nbe_rdm < user_choice :\n",
        "      print(f\"Le nombre mystère est plus petit que {user_choice} \")\n",
        "    elif nbe_rdm > user_choice :\n",
        "      print(f\"Le nombre mystère est plus grand que {user_choice} \")\n",
        "    else:\n",
        "      print(f\"Bravo ! Le nombre mystère était bien {user_choice} \")\n",
        "      print(f\"Tu as trouvé le nombre en {nbe_essais} essai\")\n",
        "      break\n",
        "\n",
        "  else:\n",
        "    print(\"Veuillez entre un nombre valide !\")\n",
        "\n",
        "# J'ai eu plusieurs problemes ici : la valeur random n'était pas bien prise en compte a cause de l'inversion de nbe_rdm et user_choice"
      ],
      "metadata": {
        "id": "RX6awW1zONSW"
      },
      "execution_count": null,
      "outputs": []
    }
  ]
}